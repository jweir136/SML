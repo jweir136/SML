{
  "nbformat": 4,
  "nbformat_minor": 0,
  "metadata": {
    "colab": {
      "name": "SML1.ipynb",
      "version": "0.3.2",
      "provenance": [],
      "collapsed_sections": [],
      "include_colab_link": true
    },
    "kernelspec": {
      "name": "python3",
      "display_name": "Python 3"
    }
  },
  "cells": [
    {
      "cell_type": "markdown",
      "metadata": {
        "id": "view-in-github",
        "colab_type": "text"
      },
      "source": [
        "<a href=\"https://colab.research.google.com/github/jweir136/SML/blob/master/SML1.ipynb\" target=\"_parent\"><img src=\"https://colab.research.google.com/assets/colab-badge.svg\" alt=\"Open In Colab\"/></a>"
      ]
    },
    {
      "metadata": {
        "id": "mRTbW0PrGCwm",
        "colab_type": "code",
        "colab": {}
      },
      "cell_type": "code",
      "source": [
        "import pandas as pd\n",
        "import numpy as np\n",
        "import datetime\n",
        "import matplotlib.pyplot as plt\n",
        "\n",
        "%matplotlib inline\n",
        "\n",
        "data = pd.read_csv(\"d1.txt\", sep=' ', parse_dates=['1:Date', '2:Time'])\n",
        "data.drop(['1:Date'], axis=1, inplace=True)"
      ],
      "execution_count": 0,
      "outputs": []
    },
    {
      "metadata": {
        "id": "uCPiwTbmHs7E",
        "colab_type": "code",
        "colab": {
          "base_uri": "https://localhost:8080/",
          "height": 423
        },
        "outputId": "20b57ca8-c3d9-4fea-bfa8-aca2074d2c05"
      },
      "cell_type": "code",
      "source": [
        "data.head()"
      ],
      "execution_count": 4,
      "outputs": [
        {
          "output_type": "execute_result",
          "data": {
            "text/html": [
              "<div>\n",
              "<style scoped>\n",
              "    .dataframe tbody tr th:only-of-type {\n",
              "        vertical-align: middle;\n",
              "    }\n",
              "\n",
              "    .dataframe tbody tr th {\n",
              "        vertical-align: top;\n",
              "    }\n",
              "\n",
              "    .dataframe thead th {\n",
              "        text-align: right;\n",
              "    }\n",
              "</style>\n",
              "<table border=\"1\" class=\"dataframe\">\n",
              "  <thead>\n",
              "    <tr style=\"text-align: right;\">\n",
              "      <th></th>\n",
              "      <th>2:Time</th>\n",
              "      <th>3:Temperature_Comedor_Sensor</th>\n",
              "      <th>4:Temperature_Habitacion_Sensor</th>\n",
              "      <th>5:Weather_Temperature</th>\n",
              "      <th>6:CO2_Comedor_Sensor</th>\n",
              "      <th>7:CO2_Habitacion_Sensor</th>\n",
              "      <th>8:Humedad_Comedor_Sensor</th>\n",
              "      <th>9:Humedad_Habitacion_Sensor</th>\n",
              "      <th>10:Lighting_Comedor_Sensor</th>\n",
              "      <th>11:Lighting_Habitacion_Sensor</th>\n",
              "      <th>...</th>\n",
              "      <th>15:Meteo_Exterior_Sol_Oest</th>\n",
              "      <th>16:Meteo_Exterior_Sol_Est</th>\n",
              "      <th>17:Meteo_Exterior_Sol_Sud</th>\n",
              "      <th>18:Meteo_Exterior_Piranometro</th>\n",
              "      <th>19:Exterior_Entalpic_1</th>\n",
              "      <th>20:Exterior_Entalpic_2</th>\n",
              "      <th>21:Exterior_Entalpic_turbo</th>\n",
              "      <th>22:Temperature_Exterior_Sensor</th>\n",
              "      <th>23:Humedad_Exterior_Sensor</th>\n",
              "      <th>24:Day_Of_Week</th>\n",
              "    </tr>\n",
              "  </thead>\n",
              "  <tbody>\n",
              "    <tr>\n",
              "      <th>0</th>\n",
              "      <td>2018-12-30 11:45:00</td>\n",
              "      <td>18.1875</td>\n",
              "      <td>17.8275</td>\n",
              "      <td>0.0</td>\n",
              "      <td>216.560</td>\n",
              "      <td>221.920</td>\n",
              "      <td>39.9125</td>\n",
              "      <td>42.4150</td>\n",
              "      <td>81.6650</td>\n",
              "      <td>113.520</td>\n",
              "      <td>...</td>\n",
              "      <td>9690.24</td>\n",
              "      <td>12604.20</td>\n",
              "      <td>95436.8</td>\n",
              "      <td>758.880</td>\n",
              "      <td>0</td>\n",
              "      <td>0</td>\n",
              "      <td>0</td>\n",
              "      <td>18.1150</td>\n",
              "      <td>48.3750</td>\n",
              "      <td>2.0</td>\n",
              "    </tr>\n",
              "    <tr>\n",
              "      <th>1</th>\n",
              "      <td>2018-12-30 12:00:00</td>\n",
              "      <td>18.4633</td>\n",
              "      <td>18.1207</td>\n",
              "      <td>6.8</td>\n",
              "      <td>219.947</td>\n",
              "      <td>220.363</td>\n",
              "      <td>39.9267</td>\n",
              "      <td>42.2453</td>\n",
              "      <td>81.7413</td>\n",
              "      <td>113.605</td>\n",
              "      <td>...</td>\n",
              "      <td>11022.00</td>\n",
              "      <td>10787.20</td>\n",
              "      <td>95436.8</td>\n",
              "      <td>762.069</td>\n",
              "      <td>0</td>\n",
              "      <td>0</td>\n",
              "      <td>0</td>\n",
              "      <td>18.4147</td>\n",
              "      <td>47.8080</td>\n",
              "      <td>2.0</td>\n",
              "    </tr>\n",
              "    <tr>\n",
              "      <th>2</th>\n",
              "      <td>2018-12-30 12:15:00</td>\n",
              "      <td>18.7673</td>\n",
              "      <td>18.4367</td>\n",
              "      <td>17.0</td>\n",
              "      <td>219.403</td>\n",
              "      <td>218.933</td>\n",
              "      <td>39.7720</td>\n",
              "      <td>42.2267</td>\n",
              "      <td>81.4240</td>\n",
              "      <td>113.600</td>\n",
              "      <td>...</td>\n",
              "      <td>13960.50</td>\n",
              "      <td>9669.63</td>\n",
              "      <td>95398.6</td>\n",
              "      <td>766.251</td>\n",
              "      <td>0</td>\n",
              "      <td>0</td>\n",
              "      <td>0</td>\n",
              "      <td>18.8533</td>\n",
              "      <td>47.4320</td>\n",
              "      <td>2.0</td>\n",
              "    </tr>\n",
              "    <tr>\n",
              "      <th>3</th>\n",
              "      <td>2018-12-30 12:30:00</td>\n",
              "      <td>19.0727</td>\n",
              "      <td>18.7513</td>\n",
              "      <td>18.0</td>\n",
              "      <td>218.613</td>\n",
              "      <td>217.045</td>\n",
              "      <td>39.7760</td>\n",
              "      <td>42.0987</td>\n",
              "      <td>81.5013</td>\n",
              "      <td>113.344</td>\n",
              "      <td>...</td>\n",
              "      <td>18511.20</td>\n",
              "      <td>9648.13</td>\n",
              "      <td>95360.3</td>\n",
              "      <td>766.037</td>\n",
              "      <td>0</td>\n",
              "      <td>0</td>\n",
              "      <td>0</td>\n",
              "      <td>19.2907</td>\n",
              "      <td>47.0240</td>\n",
              "      <td>2.0</td>\n",
              "    </tr>\n",
              "    <tr>\n",
              "      <th>4</th>\n",
              "      <td>2018-12-30 12:45:00</td>\n",
              "      <td>19.3721</td>\n",
              "      <td>19.0414</td>\n",
              "      <td>20.0</td>\n",
              "      <td>217.714</td>\n",
              "      <td>216.080</td>\n",
              "      <td>39.7757</td>\n",
              "      <td>42.0686</td>\n",
              "      <td>81.4657</td>\n",
              "      <td>113.034</td>\n",
              "      <td>...</td>\n",
              "      <td>26349.00</td>\n",
              "      <td>9208.32</td>\n",
              "      <td>95354.9</td>\n",
              "      <td>762.743</td>\n",
              "      <td>0</td>\n",
              "      <td>0</td>\n",
              "      <td>0</td>\n",
              "      <td>19.7400</td>\n",
              "      <td>45.4743</td>\n",
              "      <td>2.0</td>\n",
              "    </tr>\n",
              "  </tbody>\n",
              "</table>\n",
              "<p>5 rows × 23 columns</p>\n",
              "</div>"
            ],
            "text/plain": [
              "               2:Time  3:Temperature_Comedor_Sensor  \\\n",
              "0 2018-12-30 11:45:00                       18.1875   \n",
              "1 2018-12-30 12:00:00                       18.4633   \n",
              "2 2018-12-30 12:15:00                       18.7673   \n",
              "3 2018-12-30 12:30:00                       19.0727   \n",
              "4 2018-12-30 12:45:00                       19.3721   \n",
              "\n",
              "   4:Temperature_Habitacion_Sensor  5:Weather_Temperature  \\\n",
              "0                          17.8275                    0.0   \n",
              "1                          18.1207                    6.8   \n",
              "2                          18.4367                   17.0   \n",
              "3                          18.7513                   18.0   \n",
              "4                          19.0414                   20.0   \n",
              "\n",
              "   6:CO2_Comedor_Sensor  7:CO2_Habitacion_Sensor  8:Humedad_Comedor_Sensor  \\\n",
              "0               216.560                  221.920                   39.9125   \n",
              "1               219.947                  220.363                   39.9267   \n",
              "2               219.403                  218.933                   39.7720   \n",
              "3               218.613                  217.045                   39.7760   \n",
              "4               217.714                  216.080                   39.7757   \n",
              "\n",
              "   9:Humedad_Habitacion_Sensor  10:Lighting_Comedor_Sensor  \\\n",
              "0                      42.4150                     81.6650   \n",
              "1                      42.2453                     81.7413   \n",
              "2                      42.2267                     81.4240   \n",
              "3                      42.0987                     81.5013   \n",
              "4                      42.0686                     81.4657   \n",
              "\n",
              "   11:Lighting_Habitacion_Sensor       ...        15:Meteo_Exterior_Sol_Oest  \\\n",
              "0                        113.520       ...                           9690.24   \n",
              "1                        113.605       ...                          11022.00   \n",
              "2                        113.600       ...                          13960.50   \n",
              "3                        113.344       ...                          18511.20   \n",
              "4                        113.034       ...                          26349.00   \n",
              "\n",
              "   16:Meteo_Exterior_Sol_Est  17:Meteo_Exterior_Sol_Sud  \\\n",
              "0                   12604.20                    95436.8   \n",
              "1                   10787.20                    95436.8   \n",
              "2                    9669.63                    95398.6   \n",
              "3                    9648.13                    95360.3   \n",
              "4                    9208.32                    95354.9   \n",
              "\n",
              "   18:Meteo_Exterior_Piranometro  19:Exterior_Entalpic_1  \\\n",
              "0                        758.880                       0   \n",
              "1                        762.069                       0   \n",
              "2                        766.251                       0   \n",
              "3                        766.037                       0   \n",
              "4                        762.743                       0   \n",
              "\n",
              "   20:Exterior_Entalpic_2  21:Exterior_Entalpic_turbo  \\\n",
              "0                       0                           0   \n",
              "1                       0                           0   \n",
              "2                       0                           0   \n",
              "3                       0                           0   \n",
              "4                       0                           0   \n",
              "\n",
              "   22:Temperature_Exterior_Sensor  23:Humedad_Exterior_Sensor  24:Day_Of_Week  \n",
              "0                         18.1150                     48.3750             2.0  \n",
              "1                         18.4147                     47.8080             2.0  \n",
              "2                         18.8533                     47.4320             2.0  \n",
              "3                         19.2907                     47.0240             2.0  \n",
              "4                         19.7400                     45.4743             2.0  \n",
              "\n",
              "[5 rows x 23 columns]"
            ]
          },
          "metadata": {
            "tags": []
          },
          "execution_count": 4
        }
      ]
    },
    {
      "metadata": {
        "id": "cl30d83_K194",
        "colab_type": "code",
        "colab": {
          "base_uri": "https://localhost:8080/",
          "height": 423
        },
        "outputId": "b46ad7de-283e-4ee6-da1c-3d132a271860"
      },
      "cell_type": "code",
      "source": [
        "data.tail()"
      ],
      "execution_count": 5,
      "outputs": [
        {
          "output_type": "execute_result",
          "data": {
            "text/html": [
              "<div>\n",
              "<style scoped>\n",
              "    .dataframe tbody tr th:only-of-type {\n",
              "        vertical-align: middle;\n",
              "    }\n",
              "\n",
              "    .dataframe tbody tr th {\n",
              "        vertical-align: top;\n",
              "    }\n",
              "\n",
              "    .dataframe thead th {\n",
              "        text-align: right;\n",
              "    }\n",
              "</style>\n",
              "<table border=\"1\" class=\"dataframe\">\n",
              "  <thead>\n",
              "    <tr style=\"text-align: right;\">\n",
              "      <th></th>\n",
              "      <th>2:Time</th>\n",
              "      <th>3:Temperature_Comedor_Sensor</th>\n",
              "      <th>4:Temperature_Habitacion_Sensor</th>\n",
              "      <th>5:Weather_Temperature</th>\n",
              "      <th>6:CO2_Comedor_Sensor</th>\n",
              "      <th>7:CO2_Habitacion_Sensor</th>\n",
              "      <th>8:Humedad_Comedor_Sensor</th>\n",
              "      <th>9:Humedad_Habitacion_Sensor</th>\n",
              "      <th>10:Lighting_Comedor_Sensor</th>\n",
              "      <th>11:Lighting_Habitacion_Sensor</th>\n",
              "      <th>...</th>\n",
              "      <th>15:Meteo_Exterior_Sol_Oest</th>\n",
              "      <th>16:Meteo_Exterior_Sol_Est</th>\n",
              "      <th>17:Meteo_Exterior_Sol_Sud</th>\n",
              "      <th>18:Meteo_Exterior_Piranometro</th>\n",
              "      <th>19:Exterior_Entalpic_1</th>\n",
              "      <th>20:Exterior_Entalpic_2</th>\n",
              "      <th>21:Exterior_Entalpic_turbo</th>\n",
              "      <th>22:Temperature_Exterior_Sensor</th>\n",
              "      <th>23:Humedad_Exterior_Sensor</th>\n",
              "      <th>24:Day_Of_Week</th>\n",
              "    </tr>\n",
              "  </thead>\n",
              "  <tbody>\n",
              "    <tr>\n",
              "      <th>2759</th>\n",
              "      <td>2018-12-30 05:30:00</td>\n",
              "      <td>21.1520</td>\n",
              "      <td>20.8187</td>\n",
              "      <td>13.0000</td>\n",
              "      <td>190.539</td>\n",
              "      <td>192.181</td>\n",
              "      <td>41.3120</td>\n",
              "      <td>41.6880</td>\n",
              "      <td>11.4427</td>\n",
              "      <td>12.9400</td>\n",
              "      <td>...</td>\n",
              "      <td>0.00</td>\n",
              "      <td>0.00</td>\n",
              "      <td>0.000</td>\n",
              "      <td>-3.4340</td>\n",
              "      <td>0</td>\n",
              "      <td>0</td>\n",
              "      <td>0</td>\n",
              "      <td>16.6180</td>\n",
              "      <td>49.2960</td>\n",
              "      <td>3.0</td>\n",
              "    </tr>\n",
              "    <tr>\n",
              "      <th>2760</th>\n",
              "      <td>2018-12-30 05:45:00</td>\n",
              "      <td>21.0413</td>\n",
              "      <td>20.7053</td>\n",
              "      <td>12.1333</td>\n",
              "      <td>190.421</td>\n",
              "      <td>193.067</td>\n",
              "      <td>41.3173</td>\n",
              "      <td>41.7200</td>\n",
              "      <td>11.6867</td>\n",
              "      <td>19.3200</td>\n",
              "      <td>...</td>\n",
              "      <td>465.92</td>\n",
              "      <td>2716.67</td>\n",
              "      <td>523.264</td>\n",
              "      <td>3.8520</td>\n",
              "      <td>0</td>\n",
              "      <td>0</td>\n",
              "      <td>0</td>\n",
              "      <td>16.4013</td>\n",
              "      <td>50.0373</td>\n",
              "      <td>3.0</td>\n",
              "    </tr>\n",
              "    <tr>\n",
              "      <th>2761</th>\n",
              "      <td>2018-12-30 06:00:00</td>\n",
              "      <td>20.9347</td>\n",
              "      <td>20.5827</td>\n",
              "      <td>12.0000</td>\n",
              "      <td>190.432</td>\n",
              "      <td>193.653</td>\n",
              "      <td>41.3333</td>\n",
              "      <td>41.7573</td>\n",
              "      <td>19.5387</td>\n",
              "      <td>23.2427</td>\n",
              "      <td>...</td>\n",
              "      <td>3454.98</td>\n",
              "      <td>16203.80</td>\n",
              "      <td>3347.460</td>\n",
              "      <td>26.8300</td>\n",
              "      <td>0</td>\n",
              "      <td>0</td>\n",
              "      <td>0</td>\n",
              "      <td>16.2607</td>\n",
              "      <td>50.0587</td>\n",
              "      <td>3.0</td>\n",
              "    </tr>\n",
              "    <tr>\n",
              "      <th>2762</th>\n",
              "      <td>2018-12-30 06:15:00</td>\n",
              "      <td>20.8560</td>\n",
              "      <td>20.5200</td>\n",
              "      <td>12.0000</td>\n",
              "      <td>191.531</td>\n",
              "      <td>193.387</td>\n",
              "      <td>41.3093</td>\n",
              "      <td>41.8107</td>\n",
              "      <td>20.9853</td>\n",
              "      <td>23.4400</td>\n",
              "      <td>...</td>\n",
              "      <td>6795.26</td>\n",
              "      <td>38303.10</td>\n",
              "      <td>7110.660</td>\n",
              "      <td>66.9493</td>\n",
              "      <td>0</td>\n",
              "      <td>0</td>\n",
              "      <td>0</td>\n",
              "      <td>16.2367</td>\n",
              "      <td>49.8400</td>\n",
              "      <td>3.0</td>\n",
              "    </tr>\n",
              "    <tr>\n",
              "      <th>2763</th>\n",
              "      <td>2018-12-30 06:30:00</td>\n",
              "      <td>20.7627</td>\n",
              "      <td>20.4400</td>\n",
              "      <td>12.1333</td>\n",
              "      <td>191.563</td>\n",
              "      <td>193.664</td>\n",
              "      <td>41.2800</td>\n",
              "      <td>41.8373</td>\n",
              "      <td>20.5620</td>\n",
              "      <td>22.3080</td>\n",
              "      <td>...</td>\n",
              "      <td>8952.83</td>\n",
              "      <td>51347.50</td>\n",
              "      <td>10270.700</td>\n",
              "      <td>112.2670</td>\n",
              "      <td>0</td>\n",
              "      <td>0</td>\n",
              "      <td>0</td>\n",
              "      <td>16.2860</td>\n",
              "      <td>50.2987</td>\n",
              "      <td>3.0</td>\n",
              "    </tr>\n",
              "  </tbody>\n",
              "</table>\n",
              "<p>5 rows × 23 columns</p>\n",
              "</div>"
            ],
            "text/plain": [
              "                  2:Time  3:Temperature_Comedor_Sensor  \\\n",
              "2759 2018-12-30 05:30:00                       21.1520   \n",
              "2760 2018-12-30 05:45:00                       21.0413   \n",
              "2761 2018-12-30 06:00:00                       20.9347   \n",
              "2762 2018-12-30 06:15:00                       20.8560   \n",
              "2763 2018-12-30 06:30:00                       20.7627   \n",
              "\n",
              "      4:Temperature_Habitacion_Sensor  5:Weather_Temperature  \\\n",
              "2759                          20.8187                13.0000   \n",
              "2760                          20.7053                12.1333   \n",
              "2761                          20.5827                12.0000   \n",
              "2762                          20.5200                12.0000   \n",
              "2763                          20.4400                12.1333   \n",
              "\n",
              "      6:CO2_Comedor_Sensor  7:CO2_Habitacion_Sensor  8:Humedad_Comedor_Sensor  \\\n",
              "2759               190.539                  192.181                   41.3120   \n",
              "2760               190.421                  193.067                   41.3173   \n",
              "2761               190.432                  193.653                   41.3333   \n",
              "2762               191.531                  193.387                   41.3093   \n",
              "2763               191.563                  193.664                   41.2800   \n",
              "\n",
              "      9:Humedad_Habitacion_Sensor  10:Lighting_Comedor_Sensor  \\\n",
              "2759                      41.6880                     11.4427   \n",
              "2760                      41.7200                     11.6867   \n",
              "2761                      41.7573                     19.5387   \n",
              "2762                      41.8107                     20.9853   \n",
              "2763                      41.8373                     20.5620   \n",
              "\n",
              "      11:Lighting_Habitacion_Sensor       ...        \\\n",
              "2759                        12.9400       ...         \n",
              "2760                        19.3200       ...         \n",
              "2761                        23.2427       ...         \n",
              "2762                        23.4400       ...         \n",
              "2763                        22.3080       ...         \n",
              "\n",
              "      15:Meteo_Exterior_Sol_Oest  16:Meteo_Exterior_Sol_Est  \\\n",
              "2759                        0.00                       0.00   \n",
              "2760                      465.92                    2716.67   \n",
              "2761                     3454.98                   16203.80   \n",
              "2762                     6795.26                   38303.10   \n",
              "2763                     8952.83                   51347.50   \n",
              "\n",
              "      17:Meteo_Exterior_Sol_Sud  18:Meteo_Exterior_Piranometro  \\\n",
              "2759                      0.000                        -3.4340   \n",
              "2760                    523.264                         3.8520   \n",
              "2761                   3347.460                        26.8300   \n",
              "2762                   7110.660                        66.9493   \n",
              "2763                  10270.700                       112.2670   \n",
              "\n",
              "      19:Exterior_Entalpic_1  20:Exterior_Entalpic_2  \\\n",
              "2759                       0                       0   \n",
              "2760                       0                       0   \n",
              "2761                       0                       0   \n",
              "2762                       0                       0   \n",
              "2763                       0                       0   \n",
              "\n",
              "      21:Exterior_Entalpic_turbo  22:Temperature_Exterior_Sensor  \\\n",
              "2759                           0                         16.6180   \n",
              "2760                           0                         16.4013   \n",
              "2761                           0                         16.2607   \n",
              "2762                           0                         16.2367   \n",
              "2763                           0                         16.2860   \n",
              "\n",
              "      23:Humedad_Exterior_Sensor  24:Day_Of_Week  \n",
              "2759                     49.2960             3.0  \n",
              "2760                     50.0373             3.0  \n",
              "2761                     50.0587             3.0  \n",
              "2762                     49.8400             3.0  \n",
              "2763                     50.2987             3.0  \n",
              "\n",
              "[5 rows x 23 columns]"
            ]
          },
          "metadata": {
            "tags": []
          },
          "execution_count": 5
        }
      ]
    },
    {
      "metadata": {
        "id": "HClSyAd7K9QQ",
        "colab_type": "code",
        "colab": {}
      },
      "cell_type": "code",
      "source": [
        "data.set_index('2:Time', drop=True, inplace=True)"
      ],
      "execution_count": 0,
      "outputs": []
    },
    {
      "metadata": {
        "id": "QyMthU4KLCal",
        "colab_type": "code",
        "colab": {
          "base_uri": "https://localhost:8080/",
          "height": 293
        },
        "outputId": "72889a44-19c6-45b9-fe64-eefa793f1f11"
      },
      "cell_type": "code",
      "source": [
        "data['22:Temperature_Exterior_Sensor'].plot()"
      ],
      "execution_count": 7,
      "outputs": [
        {
          "output_type": "execute_result",
          "data": {
            "text/plain": [
              "<matplotlib.axes._subplots.AxesSubplot at 0x7f6c1da77cf8>"
            ]
          },
          "metadata": {
            "tags": []
          },
          "execution_count": 7
        },
        {
          "output_type": "display_data",
          "data": {
            "image/png": "[encoded data removed]",
            "text/plain": [
              "<matplotlib.figure.Figure at 0x7f6c1da02d30>"
            ]
          },
          "metadata": {
            "tags": []
          }
        }
      ]
    },
    {
      "metadata": {
        "id": "9ovBzikxLm7L",
        "colab_type": "code",
        "colab": {
          "base_uri": "https://localhost:8080/",
          "height": 408
        },
        "outputId": "e8e1a9ba-31ee-4122-b502-499ad9bd048a"
      },
      "cell_type": "code",
      "source": [
        "data.isnull().any()"
      ],
      "execution_count": 8,
      "outputs": [
        {
          "output_type": "execute_result",
          "data": {
            "text/plain": [
              "3:Temperature_Comedor_Sensor       False\n",
              "4:Temperature_Habitacion_Sensor    False\n",
              "5:Weather_Temperature              False\n",
              "6:CO2_Comedor_Sensor               False\n",
              "7:CO2_Habitacion_Sensor            False\n",
              "8:Humedad_Comedor_Sensor           False\n",
              "9:Humedad_Habitacion_Sensor        False\n",
              "10:Lighting_Comedor_Sensor         False\n",
              "11:Lighting_Habitacion_Sensor      False\n",
              "12:Precipitacion                   False\n",
              "13:Meteo_Exterior_Crepusculo       False\n",
              "14:Meteo_Exterior_Viento           False\n",
              "15:Meteo_Exterior_Sol_Oest         False\n",
              "16:Meteo_Exterior_Sol_Est          False\n",
              "17:Meteo_Exterior_Sol_Sud          False\n",
              "18:Meteo_Exterior_Piranometro      False\n",
              "19:Exterior_Entalpic_1             False\n",
              "20:Exterior_Entalpic_2             False\n",
              "21:Exterior_Entalpic_turbo         False\n",
              "22:Temperature_Exterior_Sensor     False\n",
              "23:Humedad_Exterior_Sensor         False\n",
              "24:Day_Of_Week                     False\n",
              "dtype: bool"
            ]
          },
          "metadata": {
            "tags": []
          },
          "execution_count": 8
        }
      ]
    },
    {
      "metadata": {
        "id": "V0hOQ2dILw1C",
        "colab_type": "code",
        "colab": {}
      },
      "cell_type": "code",
      "source": [
        "X = data['22:Temperature_Exterior_Sensor'].shift(100)\n",
        "y = data['22:Temperature_Exterior_Sensor']\n",
        "\n",
        "X = X.dropna()"
      ],
      "execution_count": 0,
      "outputs": []
    },
    {
      "metadata": {
        "id": "0ldWLkK6NvDm",
        "colab_type": "code",
        "colab": {}
      },
      "cell_type": "code",
      "source": [
        "trainX = X[:round(len(data) * 0.2)]\n",
        "testX = X[round(len(data) * 0.2):]\n",
        "trainY = y[:round(len(data) * 0.2):]\n",
        "testY = y[round(len(data) * 0.2):]\n",
        "\n",
        "trainX = np.array(trainX).reshape(-1, 1)\n",
        "trainY = np.array(trainY).reshape(-1, 1)\n",
        "testX = np.array(testX).reshape(-1, 1)\n",
        "testY = np.array(testY).reshape(-1, 1)"
      ],
      "execution_count": 0,
      "outputs": []
    },
    {
      "metadata": {
        "id": "OktG2FZJMfum",
        "colab_type": "code",
        "colab": {
          "base_uri": "https://localhost:8080/",
          "height": 34
        },
        "outputId": "d4ab260d-9392-4ee8-d925-69f6c0f05d75"
      },
      "cell_type": "code",
      "source": [
        "data['22:Temperature_Exterior_Sensor'].autocorr()"
      ],
      "execution_count": 11,
      "outputs": [
        {
          "output_type": "execute_result",
          "data": {
            "text/plain": [
              "0.9977666525896629"
            ]
          },
          "metadata": {
            "tags": []
          },
          "execution_count": 11
        }
      ]
    },
    {
      "metadata": {
        "id": "Zi9c7CJBNdg4",
        "colab_type": "text"
      },
      "cell_type": "markdown",
      "source": [
        "Looks like there is a lot of autocorrelation."
      ]
    },
    {
      "metadata": {
        "id": "ZqAHgUk4NgIA",
        "colab_type": "code",
        "colab": {}
      },
      "cell_type": "code",
      "source": [
        "from sklearn.linear_model import LinearRegression\n",
        "from sklearn.pipeline import Pipeline\n",
        "from sklearn.preprocessing import StandardScaler"
      ],
      "execution_count": 0,
      "outputs": []
    },
    {
      "metadata": {
        "id": "JXx2yWEhNnfu",
        "colab_type": "code",
        "colab": {}
      },
      "cell_type": "code",
      "source": [
        "pipe = Pipeline([\n",
        "    (\"scaler\", StandardScaler()),\n",
        "    (\"lr\", LinearRegression())\n",
        "])"
      ],
      "execution_count": 0,
      "outputs": []
    },
    {
      "metadata": {
        "id": "5qkcNitrN7xn",
        "colab_type": "code",
        "colab": {
          "base_uri": "https://localhost:8080/",
          "height": 68
        },
        "outputId": "44724052-e2a2-4f46-d2b8-9955e4b116f5"
      },
      "cell_type": "code",
      "source": [
        "pipe.fit(trainX, trainY)"
      ],
      "execution_count": 14,
      "outputs": [
        {
          "output_type": "execute_result",
          "data": {
            "text/plain": [
              "Pipeline(memory=None,\n",
              "     steps=[('scaler', StandardScaler(copy=True, with_mean=True, with_std=True)), ('lr', LinearRegression(copy_X=True, fit_intercept=True, n_jobs=None,\n",
              "         normalize=False))])"
            ]
          },
          "metadata": {
            "tags": []
          },
          "execution_count": 14
        }
      ]
    },
    {
      "metadata": {
        "id": "ydHR0RwmOVGt",
        "colab_type": "code",
        "colab": {}
      },
      "cell_type": "code",
      "source": [
        "preds = pipe.predict(testX)"
      ],
      "execution_count": 0,
      "outputs": []
    },
    {
      "metadata": {
        "id": "gEnn8bGpOd4l",
        "colab_type": "code",
        "colab": {
          "base_uri": "https://localhost:8080/",
          "height": 265
        },
        "outputId": "145a939e-d687-4ae4-9d1f-9cb4d6ba4533"
      },
      "cell_type": "code",
      "source": [
        "plt.plot([a for a in range(len(testY[1:]))], testY[1:], 'g-', label='actual')\n",
        "plt.plot([a for a in range(len(preds))], preds, 'r--', label='model')\n",
        "plt.legend()\n",
        "plt.show()"
      ],
      "execution_count": 16,
      "outputs": [
        {
          "output_type": "display_data",
          "data": {
            "image/png": "[encoded data removed]",
            "text/plain": [
              "<matplotlib.figure.Figure at 0x7f6c1794cc50>"
            ]
          },
          "metadata": {
            "tags": []
          }
        }
      ]
    },
    {
      "metadata": {
        "id": "c7QBUvgKO4sn",
        "colab_type": "text"
      },
      "cell_type": "markdown",
      "source": [
        "In this case, our model is def. overfitting our data."
      ]
    }
  ]
}